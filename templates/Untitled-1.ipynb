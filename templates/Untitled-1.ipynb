{
 "cells": [
  {
   "cell_type": "code",
   "execution_count": null,
   "metadata": {},
   "outputs": [
    {
     "ename": "",
     "evalue": "",
     "output_type": "error",
     "traceback": [
      "\u001b[1;31mRunning cells with 'Python 3.8.5' requires the ipykernel package.\n",
      "\u001b[1;31mRun the following command to install 'ipykernel' into the Python environment. \n",
      "\u001b[1;31mCommand: '\"c:/Program Files/Python38/python.exe\" -m pip install ipykernel -U --user --force-reinstall'"
     ]
    }
   ],
   "source": [
    "import matplotlib.pyplot as plt\n",
    "\n",
    "# Pie Chart - Who Benefits?\n",
    "labels = [\"Citizens (40%)\", \"Lawyers (25%)\", \"Government & Courts (20%)\", \"NGOs & Legal Aid (15%)\"]\n",
    "sizes = [40, 25, 20, 15]\n",
    "colors = [\"#ff9999\",\"#66b3ff\",\"#99ff99\",\"#ffcc99\"]\n",
    "\n",
    "plt.figure(figsize=(6,6))\n",
    "plt.pie(sizes, labels=labels, autopct='%1.0f%%', colors=colors, wedgeprops={'edgecolor': 'black'}, startangle=140)\n",
    "plt.title(\"Who Benefits from the App?\")\n",
    "plt.show()\n",
    "\n",
    "# Bar Chart - Key Impact Metrics\n",
    "impact_labels = [\"Reduction in Filing Errors\", \"Faster Legal Resolutions\", \"Access to Legal Services\", \"Increase in Awareness\"]\n",
    "impact_values = [80, 50, 100, 90]  # Using 100 as max scale for visualization\n",
    "\n",
    "plt.figure(figsize=(8,5))\n",
    "plt.barh(impact_labels, impact_values, color=['#4c72b0', '#55a868', '#c44e52', '#8172b2'])\n",
    "plt.xlabel(\"Impact (%)\")\n",
    "plt.title(\"Key Impact Metrics of the App\")\n",
    "plt.xlim(0, 100)\n",
    "plt.grid(axis='x', linestyle='--', alpha=0.5)\n",
    "plt.show()\n"
   ]
  }
 ],
 "metadata": {
  "kernelspec": {
   "display_name": "Python 3",
   "language": "python",
   "name": "python3"
  },
  "language_info": {
   "name": "python",
   "version": "3.8.5"
  }
 },
 "nbformat": 4,
 "nbformat_minor": 2
}
